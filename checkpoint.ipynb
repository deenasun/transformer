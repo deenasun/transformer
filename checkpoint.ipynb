{
 "cells": [
  {
   "cell_type": "code",
   "execution_count": 2,
   "metadata": {},
   "outputs": [
    {
     "name": "stderr",
     "output_type": "stream",
     "text": [
      "/opt/miniconda3/envs/mlab/lib/python3.13/site-packages/tqdm/auto.py:21: TqdmWarning: IProgress not found. Please update jupyter and ipywidgets. See https://ipywidgets.readthedocs.io/en/stable/user_install.html\n",
      "  from .autonotebook import tqdm as notebook_tqdm\n"
     ]
    }
   ],
   "source": [
    "from tqdm import tqdm\n",
    "from pathlib import Path\n",
    "import os  # Add this import\n",
    "\n",
    "import torch\n",
    "\n",
    "from torch.utils.data import DataLoader\n",
    "\n",
    "from transformer import Transformer, FrenchEnglishDataset\n",
    "from tokenizer.bpe_tokenizer import BPETokenizer"
   ]
  },
  {
   "cell_type": "code",
   "execution_count": 3,
   "metadata": {},
   "outputs": [
    {
     "name": "stderr",
     "output_type": "stream",
     "text": [
      "/var/folders/bv/p40w5hqx32ngltl7lx92x0gc0000gn/T/ipykernel_81681/2253660803.py:18: FutureWarning: You are using `torch.load` with `weights_only=False` (the current default value), which uses the default pickle module implicitly. It is possible to construct malicious pickle data which will execute arbitrary code during unpickling (See https://github.com/pytorch/pytorch/blob/main/SECURITY.md#untrusted-models for more details). In a future release, the default value for `weights_only` will be flipped to `True`. This limits the functions that could be executed during unpickling. Arbitrary objects will no longer be allowed to be loaded via this mode unless they are explicitly allowlisted by the user via `torch.serialization.add_safe_globals`. We recommend you start setting `weights_only=True` for any use case where you don't have full control of the loaded file. Please open an issue on GitHub for any issues related to this experimental feature.\n",
      "  checkpoint = torch.load('ckpts/model_final_small.pt', map_location=torch.device('cpu'))\n",
      "6it [00:00, 43539.49it/s]\n",
      "Truncation was not explicitly activated but `max_length` is provided a specific value, please use `truncation=True` to explicitly truncate examples to max length. Defaulting to 'longest_first' truncation strategy. If you encode pairs of sequences (GLUE-style) with the tokenizer you can select this strategy more precisely by providing a specific strategy to `truncation`.\n",
      "/Users/deenasun/Documents/mlab_nmep/homework/hw3-transformers/transformer/data/french_english_dataset.py:55: UserWarning: To copy construct from a tensor, it is recommended to use sourceTensor.clone().detach() or sourceTensor.clone().detach().requires_grad_(True), rather than torch.tensor(sourceTensor).\n",
      "  inputs = [torch.tensor(b[0]) for b in batch]\n",
      "/Users/deenasun/Documents/mlab_nmep/homework/hw3-transformers/transformer/data/french_english_dataset.py:56: UserWarning: To copy construct from a tensor, it is recommended to use sourceTensor.clone().detach() or sourceTensor.clone().detach().requires_grad_(True), rather than torch.tensor(sourceTensor).\n",
      "  targets = [torch.tensor(b[1]) for b in batch]\n"
     ]
    },
    {
     "name": "stdout",
     "output_type": "stream",
     "text": [
      "tensor(5.0797)\n",
      "Translation 1:  the the the the the the the the the the the the the the the the the the the the the the the the the the the the the the the the the the\n",
      "Translation 2:  the the the the the the the the the the the the the the the the the the the the the the the the the the the the the the the the the the\n",
      "Translation 3:  the the the the the the the the the the the the the the the the the the the the the the the the the the the the the the the the the the\n",
      "Translation 4:  the the the the the the the the the the the the the the the the the the the the the the the the the the the the the the the the the the\n",
      "Translation 5:  the the the the the the the the the the the the the the the the the the the the the the the the the the the the the the the the the the\n",
      "Translation 6:  the the the the the the the the the the the the the the the the the the the the the the the the the the the the the the the the the the\n"
     ]
    }
   ],
   "source": [
    "device = \"cpu\"\n",
    "\n",
    "tokenizer = BPETokenizer()\n",
    "vocab_size = len(tokenizer.vocab)\n",
    "\n",
    "model = Transformer(vocab_size=vocab_size,\n",
    "                    num_layers=2,\n",
    "                    num_heads=2,\n",
    "                    ffn_hidden_dim=64,\n",
    "                    embedding_dim=64,\n",
    "                    qk_length=64,\n",
    "                    value_length=64,\n",
    "                    max_length=5000,\n",
    "                    dropout=0.1)\n",
    "model.to(device)\n",
    "\n",
    "# Load the checkpoint\n",
    "checkpoint = torch.load('ckpts/model_final_small.pt', map_location=torch.device('cpu'))\n",
    "\n",
    "# Load the state dictionary into your model\n",
    "model.load_state_dict(checkpoint)\n",
    "\n",
    "\n",
    "train_dataset = FrenchEnglishDataset(Path(\"en-fr-small.csv\"), tokenizer=tokenizer, train=True)\n",
    "train_loader = DataLoader(train_dataset, batch_size=32, shuffle=True, collate_fn=FrenchEnglishDataset.collate_fn)\n",
    "\n",
    "batch = next(iter(train_loader))\n",
    "src, tgt = batch\n",
    "\n",
    "loss_fn = torch.nn.CrossEntropyLoss(label_smoothing=0.1, ignore_index=0)\n",
    "\n",
    "src = src.to(device)\n",
    "tgt = tgt.to(device)\n",
    "\n",
    "src = src.to(torch.int64)\n",
    "tgt = tgt.to(torch.int64)\n",
    "\n",
    "model.eval()\n",
    "with torch.no_grad():\n",
    "    outputs = model(src, tgt)\n",
    "    outputs = outputs.view(-1, vocab_size)\n",
    "    tgt = tgt.view(-1)\n",
    "    loss = loss_fn(outputs, tgt)\n",
    "    print(loss)\n",
    "\n",
    "    # Decode the outputs into English translations\n",
    "    # Assuming outputs are of shape (batch_size * sequence_length, vocab_size)\n",
    "    # We need to reshape them back to (batch_size, sequence_length, vocab_size)\n",
    "    batch_size = src.shape[0]\n",
    "    sequence_length = tgt.shape[0] // batch_size\n",
    "    outputs = outputs.view(batch_size, sequence_length, vocab_size)\n",
    "\n",
    "    # Greedy decoding\n",
    "    decoded_outputs = []\n",
    "    for output in outputs:\n",
    "        # Get the argmax of each token in the sequence\n",
    "        token_ids = torch.argmax(output, dim=-1)\n",
    "        \n",
    "        # Decode the sequence\n",
    "        decoded_sequence = tokenizer.decode(token_ids)\n",
    "        \n",
    "        decoded_outputs.append(decoded_sequence)\n",
    "\n",
    "    # Print the decoded translations\n",
    "    for i, translation in enumerate(decoded_outputs):\n",
    "        print(f\"Translation {i + 1}: {translation}\")"
   ]
  },
  {
   "cell_type": "code",
   "execution_count": null,
   "metadata": {},
   "outputs": [],
   "source": []
  }
 ],
 "metadata": {
  "kernelspec": {
   "display_name": "mlab",
   "language": "python",
   "name": "python3"
  },
  "language_info": {
   "codemirror_mode": {
    "name": "ipython",
    "version": 3
   },
   "file_extension": ".py",
   "mimetype": "text/x-python",
   "name": "python",
   "nbconvert_exporter": "python",
   "pygments_lexer": "ipython3",
   "version": "3.13.2"
  }
 },
 "nbformat": 4,
 "nbformat_minor": 2
}
